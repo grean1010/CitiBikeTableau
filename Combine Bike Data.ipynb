{
 "cells": [
  {
   "cell_type": "code",
   "execution_count": 1,
   "metadata": {},
   "outputs": [],
   "source": [
    "import pandas as pd\n",
    "import os\n",
    "import glob\n",
    "import datetime\n",
    "%matplotlib inline\n",
    "import matplotlib.pyplot as plt"
   ]
  },
  {
   "cell_type": "code",
   "execution_count": 2,
   "metadata": {},
   "outputs": [],
   "source": [
    "data_loc = os.path.join(\".\",\"Data\")"
   ]
  },
  {
   "cell_type": "code",
   "execution_count": 3,
   "metadata": {},
   "outputs": [
    {
     "data": {
      "text/plain": [
       "['Trip Duration',\n",
       " 'Start Time',\n",
       " 'Stop Time',\n",
       " 'Start Station ID',\n",
       " 'Start Station Name',\n",
       " 'Start Station Latitude',\n",
       " 'Start Station Longitude',\n",
       " 'End Station ID',\n",
       " 'End Station Name',\n",
       " 'End Station Latitude',\n",
       " 'End Station Longitude',\n",
       " 'Bike ID',\n",
       " 'User Type',\n",
       " 'Birth Year',\n",
       " 'Gender']"
      ]
     },
     "execution_count": 3,
     "metadata": {},
     "output_type": "execute_result"
    }
   ],
   "source": [
    "# Read in one csv file in older format\n",
    "bike_data_older = pd.read_csv(os.path.join(data_loc,'JC-201509-citibike-tripdata.csv'))\n",
    "old_colnames = bike_data_older.columns.to_list()\n",
    "old_colnames"
   ]
  },
  {
   "cell_type": "code",
   "execution_count": 4,
   "metadata": {},
   "outputs": [
    {
     "data": {
      "text/plain": [
       "['tripduration',\n",
       " 'starttime',\n",
       " 'stoptime',\n",
       " 'start station id',\n",
       " 'start station name',\n",
       " 'start station latitude',\n",
       " 'start station longitude',\n",
       " 'end station id',\n",
       " 'end station name',\n",
       " 'end station latitude',\n",
       " 'end station longitude',\n",
       " 'bikeid',\n",
       " 'usertype',\n",
       " 'birth year',\n",
       " 'gender']"
      ]
     },
     "execution_count": 4,
     "metadata": {},
     "output_type": "execute_result"
    }
   ],
   "source": [
    "# Read in one csv file in newer format\n",
    "bike_data_newer = pd.read_csv(os.path.join(data_loc,'JC-201709-citibike-tripdata.csv'))\n",
    "new_colnames = bike_data_newer.columns.to_list()\n",
    "new_colnames"
   ]
  },
  {
   "cell_type": "code",
   "execution_count": 5,
   "metadata": {},
   "outputs": [
    {
     "name": "stdout",
     "output_type": "stream",
     "text": [
      "Trip Files Identified\n",
      "---------------------\n",
      "['JC-201509-citibike-tripdata.csv', 'JC-201510-citibike-tripdata.csv', 'JC-201511-citibike-tripdata.csv', 'JC-201512-citibike-tripdata.csv', 'JC-201601-citibike-tripdata.csv', 'JC-201602-citibike-tripdata.csv', 'JC-201603-citibike-tripdata.csv', 'JC-201604-citibike-tripdata.csv', 'JC-201605-citibike-tripdata.csv', 'JC-201606-citibike-tripdata.csv', 'JC-201607-citibike-tripdata.csv', 'JC-201608-citibike-tripdata.csv', 'JC-201609-citibike-tripdata.csv', 'JC-201610-citibike-tripdata.csv', 'JC-201611-citibike-tripdata.csv', 'JC-201612-citibike-tripdata.csv', 'JC-201701-citibike-tripdata.csv', 'JC-201702-citibike-tripdata.csv', 'JC-201703-citibike-tripdata.csv', 'JC-201704-citibike-tripdata.csv', 'JC-201705-citibike-tripdata.csv', 'JC-201706-citibike-tripdata.csv', 'JC-201707-citibike-tripdata.csv', 'JC-201708 citibike-tripdata.csv', 'JC-201709-citibike-tripdata.csv', 'JC-201710-citibike-tripdata.csv', 'JC-201711-citibike-tripdata.csv', 'JC-201712-citibike-tripdata.csv', 'JC-201801-citibike-tripdata.csv', 'JC-201802-citibike-tripdata.csv', 'JC-201803-citibike-tripdata.csv', 'JC-201804-citibike-tripdata.csv', 'JC-201805-citibike-tripdata.csv', 'JC-201806-citibike-tripdata.csv', 'JC-201807-citibike-tripdata.csv', 'JC-201808-citibike-tripdata.csv', 'JC-201809-citibike-tripdata.csv', 'JC-201810-citibike-tripdata.csv', 'JC-201811-citibike-tripdata.csv', 'JC-201812-citibike-tripdata.csv', 'JC-201901-citibike-tripdata.csv', 'JC-201902-citibike-tripdata.csv', 'JC-201903-citibike-tripdata.csv', 'JC-201904-citibike-tripdata.csv', 'JC-201905-citibike-tripdata.csv', 'JC-201906-citibike-tripdata.csv', 'JC-201907-citibike-tripdata.csv']\n",
      " \n",
      "Data Files Identified\n",
      "---------------------\n",
      "['data-0FwJZ.csv', 'data-0Si1U.csv', 'data-1hJ2T.csv', 'data-33zqP.csv', 'data-7OLX8.csv', 'data-8eZnB.csv', 'data-9KAuN.csv', 'data-cZMp8.csv', 'data-dhq4m.csv', 'data-dVCP4.csv', 'data-FKjZg.csv', 'data-gRmSF.csv', 'data-jMx9R.csv', 'data-K8j0z.csv', 'data-MM5kM.csv', 'data-pe6k4.csv', 'data-pRAtm.csv', 'data-rNb8Y.csv', 'data-rreHM.csv', 'data-SGjhr.csv', 'data-tqNn6.csv', 'data-Whjsi.csv', 'data-xEsQz.csv', 'data-xXpEp.csv']\n"
     ]
    }
   ],
   "source": [
    "files = [f for f in glob.glob(data_loc + \"\\*.csv\", recursive=True)]\n",
    "trip_files = []\n",
    "data_files = []\n",
    "for f in files:\n",
    "    if f.find('JC') > -1:\n",
    "        trip_files.append(f.replace(\".\\Data\\J\",\"J\"))\n",
    "    elif f.find('.\\Data\\data') > -1:\n",
    "        data_files.append(f.replace(\".\\Data\\data\",'data'))\n",
    "        \n",
    "print(\"Trip Files Identified\")\n",
    "print(\"---------------------\")\n",
    "print(trip_files)\n",
    "print(' ')\n",
    "print(\"Data Files Identified\")\n",
    "print(\"---------------------\")\n",
    "print(data_files)"
   ]
  },
  {
   "cell_type": "code",
   "execution_count": 6,
   "metadata": {},
   "outputs": [],
   "source": [
    "# create a blank dataframe\n",
    "trip_data = pd.DataFrame()\n",
    "\n",
    "# Run through the CSV files in the data directory and add them to the dataframe\n",
    "for f in trip_files:\n",
    "    \n",
    "    # read the csv into a dataframe\n",
    "    trip_data_to_add = pd.read_csv(os.path.join(data_loc,f))\n",
    "    \n",
    "    # Create a list of the column names to check against both old and new naming conventions\n",
    "    col_check = trip_data_to_add.columns.to_list()\n",
    "    \n",
    "    # If this is the new naming convention then reset the column names to the old version\n",
    "    if col_check == new_colnames:\n",
    "        trip_data_to_add.set_axis(old_colnames,axis=1,inplace=True)\n",
    "        \n",
    "    # if this is not the old or the new names then put that in the output for further investigation\n",
    "    elif col_check != old_colnames:\n",
    "        print(f\"Check column names for {f2read}-- Not the same as old or new\")\n",
    "        print(col_check)\n",
    "        \n",
    "    # Now that we standardized column names, concatonate the data\n",
    "    trip_data = pd.concat([trip_data,trip_data_to_add])\n",
    "    \n",
    "# Create some extra variables so we can search for outliers and erroenous data\n",
    "\n",
    "# Create trip duration in hours and days\n",
    "trip_data['Trip Duration Hours'] = trip_data['Trip Duration'] / 3600\n",
    "trip_data['Trip Duration Days'] = trip_data['Trip Duration Hours'] / 24\n",
    "\n",
    "# Create flags for female and \n",
    "trip_data['Male'] = (trip_data['Gender'] == 1).astype(int)\n",
    "trip_data['Female'] = (trip_data['Gender'] == 2).astype(int)\n",
    "\n",
    "trip_data['Male Indicator'] = (trip_data['Gender'] == 1).astype(int)\n",
    "trip_data['Female Indicator'] = (trip_data['Gender'] == 2).astype(int)\n"
   ]
  },
  {
   "cell_type": "code",
   "execution_count": 7,
   "metadata": {},
   "outputs": [
    {
     "data": {
      "text/plain": [
       "['Trip Duration',\n",
       " 'Start Time',\n",
       " 'Stop Time',\n",
       " 'Start Station ID',\n",
       " 'Start Station Name',\n",
       " 'Start Station Latitude',\n",
       " 'Start Station Longitude',\n",
       " 'End Station ID',\n",
       " 'End Station Name',\n",
       " 'End Station Latitude',\n",
       " 'End Station Longitude',\n",
       " 'Bike ID',\n",
       " 'User Type',\n",
       " 'Birth Year',\n",
       " 'Gender',\n",
       " 'Trip Duration Hours',\n",
       " 'Trip Duration Days',\n",
       " 'Male',\n",
       " 'Female',\n",
       " 'Male Indicator',\n",
       " 'Female Indicator']"
      ]
     },
     "execution_count": 7,
     "metadata": {},
     "output_type": "execute_result"
    }
   ],
   "source": [
    "column_check = trip_data.columns.to_list()\n",
    "column_check"
   ]
  },
  {
   "cell_type": "code",
   "execution_count": 8,
   "metadata": {},
   "outputs": [
    {
     "data": {
      "text/html": [
       "<div>\n",
       "<style scoped>\n",
       "    .dataframe tbody tr th:only-of-type {\n",
       "        vertical-align: middle;\n",
       "    }\n",
       "\n",
       "    .dataframe tbody tr th {\n",
       "        vertical-align: top;\n",
       "    }\n",
       "\n",
       "    .dataframe thead th {\n",
       "        text-align: right;\n",
       "    }\n",
       "</style>\n",
       "<table border=\"1\" class=\"dataframe\">\n",
       "  <thead>\n",
       "    <tr style=\"text-align: right;\">\n",
       "      <th></th>\n",
       "      <th>Trip Duration</th>\n",
       "      <th>Start Time</th>\n",
       "      <th>Stop Time</th>\n",
       "      <th>Start Station ID</th>\n",
       "      <th>Start Station Name</th>\n",
       "      <th>Start Station Latitude</th>\n",
       "      <th>Start Station Longitude</th>\n",
       "      <th>End Station ID</th>\n",
       "      <th>End Station Name</th>\n",
       "      <th>End Station Latitude</th>\n",
       "      <th>...</th>\n",
       "      <th>Bike ID</th>\n",
       "      <th>User Type</th>\n",
       "      <th>Birth Year</th>\n",
       "      <th>Gender</th>\n",
       "      <th>Trip Duration Hours</th>\n",
       "      <th>Trip Duration Days</th>\n",
       "      <th>Male</th>\n",
       "      <th>Female</th>\n",
       "      <th>Male Indicator</th>\n",
       "      <th>Female Indicator</th>\n",
       "    </tr>\n",
       "  </thead>\n",
       "  <tbody>\n",
       "    <tr>\n",
       "      <th>0</th>\n",
       "      <td>61</td>\n",
       "      <td>2015-09-21 14:53:16</td>\n",
       "      <td>2015-09-21 14:54:17</td>\n",
       "      <td>3185</td>\n",
       "      <td>City Hall</td>\n",
       "      <td>40.717733</td>\n",
       "      <td>-74.043845</td>\n",
       "      <td>3185</td>\n",
       "      <td>City Hall</td>\n",
       "      <td>40.717733</td>\n",
       "      <td>...</td>\n",
       "      <td>24722</td>\n",
       "      <td>Subscriber</td>\n",
       "      <td>1975.0</td>\n",
       "      <td>1</td>\n",
       "      <td>0.016944</td>\n",
       "      <td>0.000706</td>\n",
       "      <td>1</td>\n",
       "      <td>0</td>\n",
       "      <td>1</td>\n",
       "      <td>0</td>\n",
       "    </tr>\n",
       "    <tr>\n",
       "      <th>1</th>\n",
       "      <td>290</td>\n",
       "      <td>2015-09-21 14:55:59</td>\n",
       "      <td>2015-09-21 15:00:50</td>\n",
       "      <td>3183</td>\n",
       "      <td>Exchange Place</td>\n",
       "      <td>40.716247</td>\n",
       "      <td>-74.033459</td>\n",
       "      <td>3187</td>\n",
       "      <td>Warren St</td>\n",
       "      <td>40.721124</td>\n",
       "      <td>...</td>\n",
       "      <td>24388</td>\n",
       "      <td>Customer</td>\n",
       "      <td>NaN</td>\n",
       "      <td>0</td>\n",
       "      <td>0.080556</td>\n",
       "      <td>0.003356</td>\n",
       "      <td>0</td>\n",
       "      <td>0</td>\n",
       "      <td>0</td>\n",
       "      <td>0</td>\n",
       "    </tr>\n",
       "    <tr>\n",
       "      <th>2</th>\n",
       "      <td>786</td>\n",
       "      <td>2015-09-21 14:56:14</td>\n",
       "      <td>2015-09-21 15:09:21</td>\n",
       "      <td>3183</td>\n",
       "      <td>Exchange Place</td>\n",
       "      <td>40.716247</td>\n",
       "      <td>-74.033459</td>\n",
       "      <td>3183</td>\n",
       "      <td>Exchange Place</td>\n",
       "      <td>40.716247</td>\n",
       "      <td>...</td>\n",
       "      <td>24442</td>\n",
       "      <td>Subscriber</td>\n",
       "      <td>1962.0</td>\n",
       "      <td>1</td>\n",
       "      <td>0.218333</td>\n",
       "      <td>0.009097</td>\n",
       "      <td>1</td>\n",
       "      <td>0</td>\n",
       "      <td>1</td>\n",
       "      <td>0</td>\n",
       "    </tr>\n",
       "    <tr>\n",
       "      <th>3</th>\n",
       "      <td>477</td>\n",
       "      <td>2015-09-21 14:58:35</td>\n",
       "      <td>2015-09-21 15:06:32</td>\n",
       "      <td>3203</td>\n",
       "      <td>Hamilton Park</td>\n",
       "      <td>40.727596</td>\n",
       "      <td>-74.044247</td>\n",
       "      <td>3203</td>\n",
       "      <td>Hamilton Park</td>\n",
       "      <td>40.727596</td>\n",
       "      <td>...</td>\n",
       "      <td>24678</td>\n",
       "      <td>Subscriber</td>\n",
       "      <td>1977.0</td>\n",
       "      <td>2</td>\n",
       "      <td>0.132500</td>\n",
       "      <td>0.005521</td>\n",
       "      <td>0</td>\n",
       "      <td>1</td>\n",
       "      <td>0</td>\n",
       "      <td>1</td>\n",
       "    </tr>\n",
       "    <tr>\n",
       "      <th>4</th>\n",
       "      <td>451</td>\n",
       "      <td>2015-09-21 14:59:55</td>\n",
       "      <td>2015-09-21 15:07:27</td>\n",
       "      <td>3203</td>\n",
       "      <td>Hamilton Park</td>\n",
       "      <td>40.727596</td>\n",
       "      <td>-74.044247</td>\n",
       "      <td>3186</td>\n",
       "      <td>Grove St PATH</td>\n",
       "      <td>40.719586</td>\n",
       "      <td>...</td>\n",
       "      <td>24574</td>\n",
       "      <td>Subscriber</td>\n",
       "      <td>1977.0</td>\n",
       "      <td>2</td>\n",
       "      <td>0.125278</td>\n",
       "      <td>0.005220</td>\n",
       "      <td>0</td>\n",
       "      <td>1</td>\n",
       "      <td>0</td>\n",
       "      <td>1</td>\n",
       "    </tr>\n",
       "  </tbody>\n",
       "</table>\n",
       "<p>5 rows × 21 columns</p>\n",
       "</div>"
      ],
      "text/plain": [
       "   Trip Duration           Start Time            Stop Time  Start Station ID  \\\n",
       "0             61  2015-09-21 14:53:16  2015-09-21 14:54:17              3185   \n",
       "1            290  2015-09-21 14:55:59  2015-09-21 15:00:50              3183   \n",
       "2            786  2015-09-21 14:56:14  2015-09-21 15:09:21              3183   \n",
       "3            477  2015-09-21 14:58:35  2015-09-21 15:06:32              3203   \n",
       "4            451  2015-09-21 14:59:55  2015-09-21 15:07:27              3203   \n",
       "\n",
       "  Start Station Name  Start Station Latitude  Start Station Longitude  \\\n",
       "0          City Hall               40.717733               -74.043845   \n",
       "1     Exchange Place               40.716247               -74.033459   \n",
       "2     Exchange Place               40.716247               -74.033459   \n",
       "3      Hamilton Park               40.727596               -74.044247   \n",
       "4      Hamilton Park               40.727596               -74.044247   \n",
       "\n",
       "   End Station ID End Station Name  End Station Latitude  ...  Bike ID  \\\n",
       "0            3185        City Hall             40.717733  ...    24722   \n",
       "1            3187        Warren St             40.721124  ...    24388   \n",
       "2            3183   Exchange Place             40.716247  ...    24442   \n",
       "3            3203    Hamilton Park             40.727596  ...    24678   \n",
       "4            3186    Grove St PATH             40.719586  ...    24574   \n",
       "\n",
       "    User Type Birth Year  Gender  Trip Duration Hours  Trip Duration Days  \\\n",
       "0  Subscriber     1975.0       1             0.016944            0.000706   \n",
       "1    Customer        NaN       0             0.080556            0.003356   \n",
       "2  Subscriber     1962.0       1             0.218333            0.009097   \n",
       "3  Subscriber     1977.0       2             0.132500            0.005521   \n",
       "4  Subscriber     1977.0       2             0.125278            0.005220   \n",
       "\n",
       "   Male  Female  Male Indicator  Female Indicator  \n",
       "0     1       0               1                 0  \n",
       "1     0       0               0                 0  \n",
       "2     1       0               1                 0  \n",
       "3     0       1               0                 1  \n",
       "4     0       1               0                 1  \n",
       "\n",
       "[5 rows x 21 columns]"
      ]
     },
     "execution_count": 8,
     "metadata": {},
     "output_type": "execute_result"
    }
   ],
   "source": [
    "trip_data.head()"
   ]
  },
  {
   "cell_type": "code",
   "execution_count": 9,
   "metadata": {},
   "outputs": [
    {
     "data": {
      "image/png": "[encoded data removed]",
      "text/plain": [
       "<Figure size 432x288 with 1 Axes>"
      ]
     },
     "metadata": {
      "needs_background": "light"
     },
     "output_type": "display_data"
    }
   ],
   "source": [
    "boxplot = trip_data.boxplot(column=['Trip Duration Hours'])"
   ]
  },
  {
   "cell_type": "code",
   "execution_count": 10,
   "metadata": {},
   "outputs": [
    {
     "data": {
      "image/png": "[encoded data removed]",
      "text/plain": [
       "<Figure size 432x288 with 1 Axes>"
      ]
     },
     "metadata": {
      "needs_background": "light"
     },
     "output_type": "display_data"
    }
   ],
   "source": [
    "boxplot2 = trip_data.boxplot(column=['Trip Duration Days'])\n",
    "plt.savefig(\"Images/Duration_Boxplot_Before_Cleaning.png\")"
   ]
  },
  {
   "cell_type": "code",
   "execution_count": 11,
   "metadata": {},
   "outputs": [
    {
     "data": {
      "image/png": "[encoded data removed]",
      "text/plain": [
       "<Figure size 432x288 with 1 Axes>"
      ]
     },
     "metadata": {
      "needs_background": "light"
     },
     "output_type": "display_data"
    }
   ],
   "source": [
    "boxplot3 = trip_data.boxplot(column=['Birth Year'])\n",
    "plt.savefig(\"Images/BirthYear_Boxplot_Before_Cleaning.png\")"
   ]
  },
  {
   "cell_type": "code",
   "execution_count": 12,
   "metadata": {},
   "outputs": [
    {
     "name": "stdout",
     "output_type": "stream",
     "text": [
      "Trip data size before cleaning: 1163501\n",
      "Trip data size after cleaning: 1117749\n",
      "Number of records deleted: 45752\n"
     ]
    }
   ],
   "source": [
    "trip_data_size_b4 = len(trip_data)\n",
    "\n",
    "# drop lattitude and longitude values that are not within 150 miles of new york city\n",
    "trip_data = trip_data[trip_data['Start Station Latitude'] > 38]\n",
    "trip_data = trip_data[trip_data['Start Station Latitude'] < 42]\n",
    "trip_data = trip_data[trip_data['End Station Latitude'] > 38]\n",
    "trip_data = trip_data[trip_data['End Station Latitude'] < 42]\n",
    "trip_data = trip_data[trip_data['Start Station Longitude'] > -76]\n",
    "trip_data = trip_data[trip_data['Start Station Longitude'] < -72]\n",
    "trip_data = trip_data[trip_data['End Station Longitude'] > -76]\n",
    "trip_data = trip_data[trip_data['End Station Longitude'] < -72]\n",
    "\n",
    "# Drop ages that are greater than 90. These are either erroneous, fake, or outlier riders\n",
    "trip_data = trip_data[trip_data['Birth Year'] >= 1929]\n",
    "\n",
    "# Drop trips that lasted more than 50 days\n",
    "trip_data = trip_data[trip_data['Trip Duration Days'] < 7]\n",
    "\n",
    "# Drop records with missing information\n",
    "trip_data = trip_data.dropna()\n",
    "\n",
    "# recalculate length\n",
    "trip_data_size_after = len(trip_data)\n",
    "num_deleted = trip_data_size_b4 - trip_data_size_after\n",
    "\n",
    "print(f\"Trip data size before cleaning: {trip_data_size_b4}\")\n",
    "print(f\"Trip data size after cleaning: {trip_data_size_after}\")\n",
    "print(f\"Number of records deleted: {num_deleted}\")"
   ]
  },
  {
   "cell_type": "code",
   "execution_count": 13,
   "metadata": {},
   "outputs": [
    {
     "data": {
      "text/html": [
       "<div>\n",
       "<style scoped>\n",
       "    .dataframe tbody tr th:only-of-type {\n",
       "        vertical-align: middle;\n",
       "    }\n",
       "\n",
       "    .dataframe tbody tr th {\n",
       "        vertical-align: top;\n",
       "    }\n",
       "\n",
       "    .dataframe thead th {\n",
       "        text-align: right;\n",
       "    }\n",
       "</style>\n",
       "<table border=\"1\" class=\"dataframe\">\n",
       "  <thead>\n",
       "    <tr style=\"text-align: right;\">\n",
       "      <th></th>\n",
       "      <th>Trip Duration</th>\n",
       "      <th>Start Time</th>\n",
       "      <th>Stop Time</th>\n",
       "      <th>Start Station ID</th>\n",
       "      <th>Start Station Name</th>\n",
       "      <th>Start Station Latitude</th>\n",
       "      <th>Start Station Longitude</th>\n",
       "      <th>End Station ID</th>\n",
       "      <th>End Station Name</th>\n",
       "      <th>End Station Latitude</th>\n",
       "      <th>...</th>\n",
       "      <th>Bike ID</th>\n",
       "      <th>User Type</th>\n",
       "      <th>Birth Year</th>\n",
       "      <th>Gender</th>\n",
       "      <th>Trip Duration Hours</th>\n",
       "      <th>Trip Duration Days</th>\n",
       "      <th>Male</th>\n",
       "      <th>Female</th>\n",
       "      <th>Male Indicator</th>\n",
       "      <th>Female Indicator</th>\n",
       "    </tr>\n",
       "  </thead>\n",
       "  <tbody>\n",
       "    <tr>\n",
       "      <th>0</th>\n",
       "      <td>61</td>\n",
       "      <td>2015-09-21 14:53:16</td>\n",
       "      <td>2015-09-21 14:54:17</td>\n",
       "      <td>3185</td>\n",
       "      <td>City Hall</td>\n",
       "      <td>40.717733</td>\n",
       "      <td>-74.043845</td>\n",
       "      <td>3185</td>\n",
       "      <td>City Hall</td>\n",
       "      <td>40.717733</td>\n",
       "      <td>...</td>\n",
       "      <td>24722</td>\n",
       "      <td>Subscriber</td>\n",
       "      <td>1975.0</td>\n",
       "      <td>1</td>\n",
       "      <td>0.016944</td>\n",
       "      <td>0.000706</td>\n",
       "      <td>1</td>\n",
       "      <td>0</td>\n",
       "      <td>1</td>\n",
       "      <td>0</td>\n",
       "    </tr>\n",
       "    <tr>\n",
       "      <th>2</th>\n",
       "      <td>786</td>\n",
       "      <td>2015-09-21 14:56:14</td>\n",
       "      <td>2015-09-21 15:09:21</td>\n",
       "      <td>3183</td>\n",
       "      <td>Exchange Place</td>\n",
       "      <td>40.716247</td>\n",
       "      <td>-74.033459</td>\n",
       "      <td>3183</td>\n",
       "      <td>Exchange Place</td>\n",
       "      <td>40.716247</td>\n",
       "      <td>...</td>\n",
       "      <td>24442</td>\n",
       "      <td>Subscriber</td>\n",
       "      <td>1962.0</td>\n",
       "      <td>1</td>\n",
       "      <td>0.218333</td>\n",
       "      <td>0.009097</td>\n",
       "      <td>1</td>\n",
       "      <td>0</td>\n",
       "      <td>1</td>\n",
       "      <td>0</td>\n",
       "    </tr>\n",
       "    <tr>\n",
       "      <th>3</th>\n",
       "      <td>477</td>\n",
       "      <td>2015-09-21 14:58:35</td>\n",
       "      <td>2015-09-21 15:06:32</td>\n",
       "      <td>3203</td>\n",
       "      <td>Hamilton Park</td>\n",
       "      <td>40.727596</td>\n",
       "      <td>-74.044247</td>\n",
       "      <td>3203</td>\n",
       "      <td>Hamilton Park</td>\n",
       "      <td>40.727596</td>\n",
       "      <td>...</td>\n",
       "      <td>24678</td>\n",
       "      <td>Subscriber</td>\n",
       "      <td>1977.0</td>\n",
       "      <td>2</td>\n",
       "      <td>0.132500</td>\n",
       "      <td>0.005521</td>\n",
       "      <td>0</td>\n",
       "      <td>1</td>\n",
       "      <td>0</td>\n",
       "      <td>1</td>\n",
       "    </tr>\n",
       "    <tr>\n",
       "      <th>4</th>\n",
       "      <td>451</td>\n",
       "      <td>2015-09-21 14:59:55</td>\n",
       "      <td>2015-09-21 15:07:27</td>\n",
       "      <td>3203</td>\n",
       "      <td>Hamilton Park</td>\n",
       "      <td>40.727596</td>\n",
       "      <td>-74.044247</td>\n",
       "      <td>3186</td>\n",
       "      <td>Grove St PATH</td>\n",
       "      <td>40.719586</td>\n",
       "      <td>...</td>\n",
       "      <td>24574</td>\n",
       "      <td>Subscriber</td>\n",
       "      <td>1977.0</td>\n",
       "      <td>2</td>\n",
       "      <td>0.125278</td>\n",
       "      <td>0.005220</td>\n",
       "      <td>0</td>\n",
       "      <td>1</td>\n",
       "      <td>0</td>\n",
       "      <td>1</td>\n",
       "    </tr>\n",
       "    <tr>\n",
       "      <th>5</th>\n",
       "      <td>401</td>\n",
       "      <td>2015-09-21 15:06:03</td>\n",
       "      <td>2015-09-21 15:12:44</td>\n",
       "      <td>3195</td>\n",
       "      <td>Sip Ave</td>\n",
       "      <td>40.730743</td>\n",
       "      <td>-74.063784</td>\n",
       "      <td>3195</td>\n",
       "      <td>Sip Ave</td>\n",
       "      <td>40.730743</td>\n",
       "      <td>...</td>\n",
       "      <td>24520</td>\n",
       "      <td>Subscriber</td>\n",
       "      <td>1987.0</td>\n",
       "      <td>2</td>\n",
       "      <td>0.111389</td>\n",
       "      <td>0.004641</td>\n",
       "      <td>0</td>\n",
       "      <td>1</td>\n",
       "      <td>0</td>\n",
       "      <td>1</td>\n",
       "    </tr>\n",
       "  </tbody>\n",
       "</table>\n",
       "<p>5 rows × 21 columns</p>\n",
       "</div>"
      ],
      "text/plain": [
       "   Trip Duration           Start Time            Stop Time  Start Station ID  \\\n",
       "0             61  2015-09-21 14:53:16  2015-09-21 14:54:17              3185   \n",
       "2            786  2015-09-21 14:56:14  2015-09-21 15:09:21              3183   \n",
       "3            477  2015-09-21 14:58:35  2015-09-21 15:06:32              3203   \n",
       "4            451  2015-09-21 14:59:55  2015-09-21 15:07:27              3203   \n",
       "5            401  2015-09-21 15:06:03  2015-09-21 15:12:44              3195   \n",
       "\n",
       "  Start Station Name  Start Station Latitude  Start Station Longitude  \\\n",
       "0          City Hall               40.717733               -74.043845   \n",
       "2     Exchange Place               40.716247               -74.033459   \n",
       "3      Hamilton Park               40.727596               -74.044247   \n",
       "4      Hamilton Park               40.727596               -74.044247   \n",
       "5            Sip Ave               40.730743               -74.063784   \n",
       "\n",
       "   End Station ID End Station Name  End Station Latitude  ...  Bike ID  \\\n",
       "0            3185        City Hall             40.717733  ...    24722   \n",
       "2            3183   Exchange Place             40.716247  ...    24442   \n",
       "3            3203    Hamilton Park             40.727596  ...    24678   \n",
       "4            3186    Grove St PATH             40.719586  ...    24574   \n",
       "5            3195          Sip Ave             40.730743  ...    24520   \n",
       "\n",
       "    User Type Birth Year  Gender  Trip Duration Hours  Trip Duration Days  \\\n",
       "0  Subscriber     1975.0       1             0.016944            0.000706   \n",
       "2  Subscriber     1962.0       1             0.218333            0.009097   \n",
       "3  Subscriber     1977.0       2             0.132500            0.005521   \n",
       "4  Subscriber     1977.0       2             0.125278            0.005220   \n",
       "5  Subscriber     1987.0       2             0.111389            0.004641   \n",
       "\n",
       "   Male  Female  Male Indicator  Female Indicator  \n",
       "0     1       0               1                 0  \n",
       "2     1       0               1                 0  \n",
       "3     0       1               0                 1  \n",
       "4     0       1               0                 1  \n",
       "5     0       1               0                 1  \n",
       "\n",
       "[5 rows x 21 columns]"
      ]
     },
     "execution_count": 13,
     "metadata": {},
     "output_type": "execute_result"
    }
   ],
   "source": [
    "trip_data.head()"
   ]
  },
  {
   "cell_type": "code",
   "execution_count": 14,
   "metadata": {},
   "outputs": [
    {
     "data": {
      "image/png": "[encoded data removed]",
      "text/plain": [
       "<Figure size 432x288 with 1 Axes>"
      ]
     },
     "metadata": {
      "needs_background": "light"
     },
     "output_type": "display_data"
    }
   ],
   "source": [
    "boxplota = trip_data.boxplot(column=['Trip Duration Hours'])\n",
    "plt.savefig(\"Images/Duration_Boxplot_After_Cleaning.png\")"
   ]
  },
  {
   "cell_type": "code",
   "execution_count": 15,
   "metadata": {},
   "outputs": [
    {
     "data": {
      "image/png": "[encoded data removed]",
      "text/plain": [
       "<Figure size 432x288 with 1 Axes>"
      ]
     },
     "metadata": {
      "needs_background": "light"
     },
     "output_type": "display_data"
    }
   ],
   "source": [
    "boxplot3a = trip_data.boxplot(column=['Birth Year'])\n",
    "plt.savefig(\"Images/BirthYear_Boxplot_After_Cleaning.png\")"
   ]
  },
  {
   "cell_type": "code",
   "execution_count": null,
   "metadata": {},
   "outputs": [],
   "source": []
  },
  {
   "cell_type": "code",
   "execution_count": 16,
   "metadata": {},
   "outputs": [],
   "source": [
    "trip_data.to_csv(os.path.join(data_loc,'Combined_Bike_Data.csv'), index=False)"
   ]
  },
  {
   "cell_type": "code",
   "execution_count": 17,
   "metadata": {},
   "outputs": [],
   "source": [
    "#trip_data_sample = trip_data.sample(frac=0.1, replace=False)\n",
    "#trip_data_sample.to_csv(os.path.join(data_loc,'Combined_Bike_Data_Sample.csv'), index=False)"
   ]
  },
  {
   "cell_type": "code",
   "execution_count": 18,
   "metadata": {},
   "outputs": [
    {
     "data": {
      "text/plain": [
       "['Date',\n",
       " 'Trips over the past 24-hours (midnight to 11:59pm)',\n",
       " 'Cumulative trips (since launch):',\n",
       " 'Miles traveled today (midnight to 11:59 pm)',\n",
       " 'Miles traveled to date:',\n",
       " 'Total Annual Members',\n",
       " 'Annual Member Sign-Ups (midnight to 11:59 pm)',\n",
       " '24-Hour Passes Purchased (midnight to 11:59 pm)\\t7-Day Passes Purchased (midnight to 11:59 pm)']"
      ]
     },
     "execution_count": 18,
     "metadata": {},
     "output_type": "execute_result"
    }
   ],
   "source": [
    "# Read in one csv file and find column names\n",
    "data_file_test = pd.read_csv(os.path.join(data_loc,'data-0FwJZ.csv'))\n",
    "data_file_colnames = data_file_test.columns.to_list()\n",
    "data_file_colnames"
   ]
  },
  {
   "cell_type": "code",
   "execution_count": 19,
   "metadata": {},
   "outputs": [
    {
     "data": {
      "text/plain": [
       "['Date',\n",
       " 'Trips over the past 24-hours (midnight to 11:59pm)',\n",
       " 'Cumulative trips (since launch):',\n",
       " 'Miles traveled today (midnight to 11:59 pm)',\n",
       " 'Miles traveled to date:',\n",
       " 'Total Annual Members (All Time)',\n",
       " '24-Hour Passes Purchased (midnight to 11:59 pm)',\n",
       " '7-Day Passes Purchased (midnight to 11:59 pm)']"
      ]
     },
     "execution_count": 19,
     "metadata": {},
     "output_type": "execute_result"
    }
   ],
   "source": [
    "# Read in one csv file and find column names\n",
    "data_file_test2 = pd.read_csv(os.path.join(data_loc,'data-jMx9R.csv'))\n",
    "data_file_colnames2 = data_file_test2.columns.to_list()\n",
    "data_file_colnames2"
   ]
  },
  {
   "cell_type": "code",
   "execution_count": 20,
   "metadata": {},
   "outputs": [
    {
     "data": {
      "text/plain": [
       "['Date',\n",
       " 'Trips over the past 24-hours (midnight to 11:59pm)',\n",
       " 'Cumulative trips (since launch):',\n",
       " 'Miles traveled today (midnight to 11:59 pm)',\n",
       " 'Miles traveled to date:',\n",
       " 'Total Annual Memberships Sold',\n",
       " 'Annual Member Sign-Ups (midnight to 11:59 pm)',\n",
       " '24-Hour Passes Purchased (midnight to 11:59 pm)',\n",
       " '7-Day Passes Purchased (midnight to 11:59 pm)']"
      ]
     },
     "execution_count": 20,
     "metadata": {},
     "output_type": "execute_result"
    }
   ],
   "source": [
    "# Read in one csv file and find column names\n",
    "data_file_test3 = pd.read_csv(os.path.join(data_loc,'data-0Si1U.csv'))\n",
    "data_file_colnames3 = data_file_test3.columns.to_list()\n",
    "data_file_colnames3"
   ]
  },
  {
   "cell_type": "code",
   "execution_count": 21,
   "metadata": {},
   "outputs": [
    {
     "data": {
      "text/plain": [
       "['Date',\n",
       " 'Trips over the past 24-hours (midnight to 11:59pm)',\n",
       " 'Miles traveled today (midnight to 11:59 pm)',\n",
       " 'Total Annual Members (All Time)',\n",
       " '24-Hour Passes Purchased (midnight to 11:59 pm)',\n",
       " '3-Day Passes Purchased (midnight to 11:59 pm)']"
      ]
     },
     "execution_count": 21,
     "metadata": {},
     "output_type": "execute_result"
    }
   ],
   "source": [
    "# Read in one csv file and find column names\n",
    "data_file_test4 = pd.read_csv(os.path.join(data_loc,'data-33zqP.csv'))\n",
    "data_file_colnames4 = data_file_test4.columns.to_list()\n",
    "data_file_colnames4"
   ]
  },
  {
   "cell_type": "code",
   "execution_count": 22,
   "metadata": {},
   "outputs": [
    {
     "data": {
      "text/plain": [
       "['Date',\n",
       " 'Trips over the past 24-hours (midnight to 11:59pm)',\n",
       " 'Cumulative trips (since launch):',\n",
       " 'Miles traveled today (midnight to 11:59 pm)',\n",
       " 'Miles traveled to date:',\n",
       " 'Total Annual Members (All Time)',\n",
       " '24-Hour Passes Purchased (midnight to 11:59 pm)',\n",
       " '3-Day Passes Purchased (midnight to 11:59 pm)',\n",
       " '7-Day Passes Purchased (midnight to 11:59 pm)']"
      ]
     },
     "execution_count": 22,
     "metadata": {},
     "output_type": "execute_result"
    }
   ],
   "source": [
    "# Read in one csv file and find column names\n",
    "data_file_test5 = pd.read_csv(os.path.join(data_loc,'data-8eZnB.csv'))\n",
    "data_file_colnames5 = data_file_test5.columns.to_list()\n",
    "data_file_colnames5"
   ]
  },
  {
   "cell_type": "code",
   "execution_count": 23,
   "metadata": {},
   "outputs": [
    {
     "data": {
      "text/plain": [
       "['Date',\n",
       " 'Trips over the past 24-hours (midnight to 11:59pm)',\n",
       " 'Cumulative trips (since launch):',\n",
       " 'Miles traveled today (midnight to 11:59 pm)',\n",
       " 'Miles traveled to date:',\n",
       " 'Total Annual Members (All Time)',\n",
       " '24-Hour Passes Purchased (midnight to 11:59 pm)',\n",
       " '3-Day Passes Purchased (midnight to 11:59 pm)']"
      ]
     },
     "execution_count": 23,
     "metadata": {},
     "output_type": "execute_result"
    }
   ],
   "source": [
    "# Read in one csv file and find column names\n",
    "data_file_test6 = pd.read_csv(os.path.join(data_loc,'data-gRmSF.csv'))\n",
    "data_file_colnames6 = data_file_test6.columns.to_list()\n",
    "data_file_colnames6"
   ]
  },
  {
   "cell_type": "code",
   "execution_count": 24,
   "metadata": {},
   "outputs": [
    {
     "data": {
      "text/plain": [
       "['Date',\n",
       " 'Trips over the past 24-hours (midnight to 11:59pm)',\n",
       " 'Miles traveled today (midnight to 11:59 pm)',\n",
       " 'Total Annual Members (All Time)',\n",
       " '24-Hour Passes Purchased (midnight to 11:59 pm)',\n",
       " '3-Day Passes Purchased (midnight to 11:59 pm)',\n",
       " 'Column 1']"
      ]
     },
     "execution_count": 24,
     "metadata": {},
     "output_type": "execute_result"
    }
   ],
   "source": [
    "# Read in one csv file and find column names\n",
    "data_file_test7 = pd.read_csv(os.path.join(data_loc,'data-MM5kM.csv'))\n",
    "data_file_colnames7 = data_file_test7.columns.to_list()\n",
    "data_file_colnames7"
   ]
  },
  {
   "cell_type": "code",
   "execution_count": 25,
   "metadata": {},
   "outputs": [
    {
     "data": {
      "text/plain": [
       "['Date',\n",
       " 'Trips over the past 24-hours (midnight to 11:59pm)',\n",
       " 'Cumulative trips (since launch):',\n",
       " 'Miles traveled today (midnight to 11:59 pm)',\n",
       " 'Miles traveled to date:',\n",
       " 'Total Annual Members',\n",
       " 'Annual Member Sign-Ups (midnight to 11:59 pm)',\n",
       " '24-Hour Passes Purchased (midnight to 11:59 pm)',\n",
       " '7-Day Passes Purchased (midnight to 11:59 pm)']"
      ]
     },
     "execution_count": 25,
     "metadata": {},
     "output_type": "execute_result"
    }
   ],
   "source": [
    "# Read in one csv file and find column names\n",
    "data_file_test8 = pd.read_csv(os.path.join(data_loc,'data-pe6k4.csv'))\n",
    "data_file_colnames8 = data_file_test8.columns.to_list()\n",
    "data_file_colnames8"
   ]
  },
  {
   "cell_type": "code",
   "execution_count": 26,
   "metadata": {},
   "outputs": [
    {
     "data": {
      "text/plain": [
       "['Date',\n",
       " 'Trips over the past 24-hours (midnight to 11:59pm)',\n",
       " 'Cumulative trips (since launch)',\n",
       " 'Miles traveled today (midnight to 11:59 pm)',\n",
       " 'Miles traveled to date',\n",
       " 'Total Annual Memberships Sold',\n",
       " '24-Hour Passes Purchased (midnight to 11:59 pm)',\n",
       " '7-Day Passes Purchased (midnight to 11:59 pm)']"
      ]
     },
     "execution_count": 26,
     "metadata": {},
     "output_type": "execute_result"
    }
   ],
   "source": [
    "# Read in one csv file and find column names\n",
    "data_file_test10 = pd.read_csv(os.path.join(data_loc,'data-xEsQz.csv'))\n",
    "data_file_colnames10 = data_file_test10.columns.to_list()\n",
    "data_file_colnames10"
   ]
  },
  {
   "cell_type": "code",
   "execution_count": null,
   "metadata": {},
   "outputs": [],
   "source": []
  },
  {
   "cell_type": "code",
   "execution_count": 27,
   "metadata": {},
   "outputs": [
    {
     "data": {
      "text/html": [
       "<div>\n",
       "<style scoped>\n",
       "    .dataframe tbody tr th:only-of-type {\n",
       "        vertical-align: middle;\n",
       "    }\n",
       "\n",
       "    .dataframe tbody tr th {\n",
       "        vertical-align: top;\n",
       "    }\n",
       "\n",
       "    .dataframe thead th {\n",
       "        text-align: right;\n",
       "    }\n",
       "</style>\n",
       "<table border=\"1\" class=\"dataframe\">\n",
       "  <thead>\n",
       "    <tr style=\"text-align: right;\">\n",
       "      <th></th>\n",
       "      <th>Date</th>\n",
       "      <th>Daily Number of Trips</th>\n",
       "      <th>Daily Miles Traveled</th>\n",
       "      <th>Cumulative Annual Members</th>\n",
       "    </tr>\n",
       "  </thead>\n",
       "  <tbody>\n",
       "    <tr>\n",
       "      <th>0</th>\n",
       "      <td>10/1/2013</td>\n",
       "      <td>44772</td>\n",
       "      <td>73.665</td>\n",
       "      <td>85494</td>\n",
       "    </tr>\n",
       "    <tr>\n",
       "      <th>1</th>\n",
       "      <td>10/2/2013</td>\n",
       "      <td>45667</td>\n",
       "      <td>76.149</td>\n",
       "      <td>85773</td>\n",
       "    </tr>\n",
       "    <tr>\n",
       "      <th>2</th>\n",
       "      <td>10/3/2013</td>\n",
       "      <td>44472</td>\n",
       "      <td>72.635</td>\n",
       "      <td>86333</td>\n",
       "    </tr>\n",
       "    <tr>\n",
       "      <th>3</th>\n",
       "      <td>10/4/2013</td>\n",
       "      <td>44089</td>\n",
       "      <td>74.223</td>\n",
       "      <td>87112</td>\n",
       "    </tr>\n",
       "    <tr>\n",
       "      <th>4</th>\n",
       "      <td>10/5/2013</td>\n",
       "      <td>37683</td>\n",
       "      <td>73.892</td>\n",
       "      <td>87862</td>\n",
       "    </tr>\n",
       "  </tbody>\n",
       "</table>\n",
       "</div>"
      ],
      "text/plain": [
       "        Date  Daily Number of Trips  Daily Miles Traveled  \\\n",
       "0  10/1/2013                  44772                73.665   \n",
       "1  10/2/2013                  45667                76.149   \n",
       "2  10/3/2013                  44472                72.635   \n",
       "3  10/4/2013                  44089                74.223   \n",
       "4  10/5/2013                  37683                73.892   \n",
       "\n",
       "   Cumulative Annual Members  \n",
       "0                      85494  \n",
       "1                      85773  \n",
       "2                      86333  \n",
       "3                      87112  \n",
       "4                      87862  "
      ]
     },
     "execution_count": 27,
     "metadata": {},
     "output_type": "execute_result"
    }
   ],
   "source": [
    "# Create a list of the columns we eventually want\n",
    "daily_cols = ['Date','Daily Number of Trips','Daily Miles Traveled','Cumulative Annual Members']\n",
    "\n",
    "# create a blank dataframe\n",
    "daily_data = pd.DataFrame()\n",
    "\n",
    "# Run through the CSV files in the data directory and add them to the dataframe\n",
    "for f in data_files:\n",
    "    \n",
    "    # read the csv into a dataframe\n",
    "    daily_data_to_add = pd.read_csv(os.path.join(data_loc,f))\n",
    "    \n",
    "    # Create a list of the column names to check against both old and new naming conventions\n",
    "    col_check = daily_data_to_add.columns.to_list()\n",
    "    \n",
    "    for col in col_check:\n",
    "        if col == 'Trips over the past 24-hours (midnight to 11:59pm)':\n",
    "            daily_data_to_add.rename(columns={'Trips over the past 24-hours (midnight to 11:59pm)': 'Daily Number of Trips'}, inplace = True)\n",
    "\n",
    "        if col == 'Miles traveled today (midnight to 11:59 pm)':\n",
    "            daily_data_to_add.rename(columns={'Miles traveled today (midnight to 11:59 pm)': 'Daily Miles Traveled'}, inplace = True)\n",
    "\n",
    "        if col == 'Total Annual Members':\n",
    "            daily_data_to_add.rename(columns={'Total Annual Members': 'Cumulative Annual Members'}, inplace = True)\n",
    "\n",
    "        if col == 'Total Annual Members (All Time)':\n",
    "            daily_data_to_add.rename(columns={'Total Annual Members (All Time)': 'Cumulative Annual Members'}, inplace = True)\n",
    "\n",
    "        if col == 'Total Annual Memberships Sold':\n",
    "            daily_data_to_add.rename(columns={'Total Annual Memberships Sold': 'Cumulative Annual Members'}, inplace = True)\n",
    "\n",
    "     \n",
    "            \n",
    "    daily_data_to_add = daily_data_to_add[['Date','Daily Number of Trips','Daily Miles Traveled','Cumulative Annual Members']]\n",
    "        \n",
    "    # Now that we standardized column names, concatonate the data\n",
    "    daily_data = pd.concat([daily_data,daily_data_to_add])\n",
    "    \n",
    "daily_data.head()"
   ]
  },
  {
   "cell_type": "code",
   "execution_count": 28,
   "metadata": {},
   "outputs": [
    {
     "data": {
      "text/html": [
       "<div>\n",
       "<style scoped>\n",
       "    .dataframe tbody tr th:only-of-type {\n",
       "        vertical-align: middle;\n",
       "    }\n",
       "\n",
       "    .dataframe tbody tr th {\n",
       "        vertical-align: top;\n",
       "    }\n",
       "\n",
       "    .dataframe thead th {\n",
       "        text-align: right;\n",
       "    }\n",
       "</style>\n",
       "<table border=\"1\" class=\"dataframe\">\n",
       "  <thead>\n",
       "    <tr style=\"text-align: right;\">\n",
       "      <th></th>\n",
       "      <th>Daily Number of Trips</th>\n",
       "      <th>Daily Miles Traveled</th>\n",
       "      <th>Cumulative Annual Members</th>\n",
       "    </tr>\n",
       "  </thead>\n",
       "  <tbody>\n",
       "    <tr>\n",
       "      <th>count</th>\n",
       "      <td>2206.000000</td>\n",
       "      <td>2206.000000</td>\n",
       "      <td>2.206000e+03</td>\n",
       "    </tr>\n",
       "    <tr>\n",
       "      <th>mean</th>\n",
       "      <td>36690.606981</td>\n",
       "      <td>63775.836495</td>\n",
       "      <td>8.520182e+05</td>\n",
       "    </tr>\n",
       "    <tr>\n",
       "      <th>std</th>\n",
       "      <td>18322.832353</td>\n",
       "      <td>50325.556604</td>\n",
       "      <td>3.133646e+07</td>\n",
       "    </tr>\n",
       "    <tr>\n",
       "      <th>min</th>\n",
       "      <td>0.000000</td>\n",
       "      <td>0.000000</td>\n",
       "      <td>1.721600e+04</td>\n",
       "    </tr>\n",
       "    <tr>\n",
       "      <th>25%</th>\n",
       "      <td>23401.000000</td>\n",
       "      <td>16176.000000</td>\n",
       "      <td>1.269272e+05</td>\n",
       "    </tr>\n",
       "    <tr>\n",
       "      <th>50%</th>\n",
       "      <td>35759.000000</td>\n",
       "      <td>60959.000000</td>\n",
       "      <td>1.747150e+05</td>\n",
       "    </tr>\n",
       "    <tr>\n",
       "      <th>75%</th>\n",
       "      <td>49306.000000</td>\n",
       "      <td>104028.250000</td>\n",
       "      <td>2.527518e+05</td>\n",
       "    </tr>\n",
       "    <tr>\n",
       "      <th>max</th>\n",
       "      <td>83347.000000</td>\n",
       "      <td>189852.000000</td>\n",
       "      <td>1.471994e+09</td>\n",
       "    </tr>\n",
       "  </tbody>\n",
       "</table>\n",
       "</div>"
      ],
      "text/plain": [
       "       Daily Number of Trips  Daily Miles Traveled  Cumulative Annual Members\n",
       "count            2206.000000           2206.000000               2.206000e+03\n",
       "mean            36690.606981          63775.836495               8.520182e+05\n",
       "std             18322.832353          50325.556604               3.133646e+07\n",
       "min                 0.000000              0.000000               1.721600e+04\n",
       "25%             23401.000000          16176.000000               1.269272e+05\n",
       "50%             35759.000000          60959.000000               1.747150e+05\n",
       "75%             49306.000000         104028.250000               2.527518e+05\n",
       "max             83347.000000         189852.000000               1.471994e+09"
      ]
     },
     "execution_count": 28,
     "metadata": {},
     "output_type": "execute_result"
    }
   ],
   "source": [
    "daily_data.describe()"
   ]
  },
  {
   "cell_type": "code",
   "execution_count": 29,
   "metadata": {},
   "outputs": [],
   "source": [
    "daily_data.to_csv(os.path.join(data_loc,'daily_data_combined.csv'),index=False)"
   ]
  }
 ],
 "metadata": {
  "kernelspec": {
   "display_name": "Python 3",
   "language": "python",
   "name": "python3"
  },
  "language_info": {
   "codemirror_mode": {
    "name": "ipython",
    "version": 3
   },
   "file_extension": ".py",
   "mimetype": "text/x-python",
   "name": "python",
   "nbconvert_exporter": "python",
   "pygments_lexer": "ipython3",
   "version": "3.7.3"
  }
 },
 "nbformat": 4,
 "nbformat_minor": 2
}
